{
 "cells": [
  {
   "cell_type": "markdown",
   "metadata": {},
   "source": [
    "#### Vizualização dos dados\n",
    "### Tem o intuito gerar conhecimento, tem maneiras diferentes para o profissional e para o cliente, tem que saver contar uma historia com essas vizualizzações(presente, passado, futuro).\n",
    "#### Análise exploratória:\n",
    "    - Relações\n",
    "    - Limites\n",
    "    - Outliers\n",
    "    - Tendências\n",
    "    - Padrões\n",
    "#### Fase Explanatória:\n",
    "    - Conclusões\n",
    "    - Evidências\n",
    "    - Sofisticação\n",
    "#### Dicas para Criar Dashboards:\n",
    "    - Comparado a oq?\n",
    "    - Com ou Ruim?\n",
    "    - Métricas Corretas?\n",
    "    - Tema\n",
    "    - Tamanho  e Resolução\n",
    "    - Melhores e Piores\n",
    "    - Excesso ou falta de níveis\n",
    "    - Proporção\n",
    "#### Áreas de ênfase\n",
    "    - Centro\n",
    "    - Superior esquerdo\n",
    "#### Proporção\n",
    "    - Eixo x: causa\n",
    "    - Eixo y: efeito\n",
    "    - Proporção maior na causa\n",
    "#### Dicas\n",
    "    - Até 7 elementos gráficos\n",
    "#### Tipos de elementos gráficos\n",
    "    - Gráficos de barras:\n",
    "        - Elementos discretos\n",
    "        - Box Plot para apenas uma variavel\n",
    "        - Várias variaveis se usa um boxplot\n",
    "        - Heat Map comparar 2 variaveis categoricas\n",
    "        - tree maps comprar variaveis categoricas com comparação de areas de objetos\n",
    "        - "
   ]
  },
  {
   "cell_type": "markdown",
   "metadata": {},
   "source": []
  },
  {
   "cell_type": "code",
   "execution_count": null,
   "metadata": {},
   "outputs": [],
   "source": [
    "Modelar banco\n",
    "modelo de negocio -> receita\n",
    "serviço"
   ]
  }
 ],
 "metadata": {
  "language_info": {
   "name": "python"
  }
 },
 "nbformat": 4,
 "nbformat_minor": 2
}
