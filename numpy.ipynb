{
 "cells": [
  {
   "cell_type": "code",
   "execution_count": 1,
   "metadata": {},
   "outputs": [],
   "source": [
    "import numpy as np"
   ]
  },
  {
   "cell_type": "code",
   "execution_count": 10,
   "metadata": {},
   "outputs": [
    {
     "data": {
      "text/plain": [
       "array([[-1569570432,         552],\n",
       "       [          0,           0],\n",
       "       [          1,           0]])"
      ]
     },
     "execution_count": 10,
     "metadata": {},
     "output_type": "execute_result"
    }
   ],
   "source": [
    "vazio = np.empty([3,2], dtype=int)\n",
    "vazio"
   ]
  },
  {
   "cell_type": "code",
   "execution_count": 12,
   "metadata": {},
   "outputs": [
    {
     "name": "stdout",
     "output_type": "stream",
     "text": [
      "[[0. 0.]\n",
      " [0. 0.]\n",
      " [0. 0.]]\n",
      "[[1. 0. 0. 0. 0.]\n",
      " [0. 1. 0. 0. 0.]\n",
      " [0. 0. 1. 0. 0.]\n",
      " [0. 0. 0. 1. 0.]\n",
      " [0. 0. 0. 0. 1.]]\n"
     ]
    }
   ],
   "source": [
    "zeros = np.zeros([3,2])\n",
    "print(zeros)\n",
    "diagonal = np.eye(5)\n",
    "print(diagonal)"
   ]
  },
  {
   "cell_type": "code",
   "execution_count": 14,
   "metadata": {},
   "outputs": [
    {
     "name": "stdout",
     "output_type": "stream",
     "text": [
      "[[1 4 3]\n",
      " [4 5 6]]\n",
      "[1 3 4 5 6]\n"
     ]
    }
   ],
   "source": [
    "k = np.array([[1,4,3],[4,5,6]])\n",
    "print(k)\n",
    "print(np.unique(k))"
   ]
  },
  {
   "cell_type": "code",
   "execution_count": 16,
   "metadata": {},
   "outputs": [
    {
     "name": "stdout",
     "output_type": "stream",
     "text": [
      "6\n",
      "1\n"
     ]
    },
    {
     "data": {
      "text/plain": [
       "2.4722222222222228"
      ]
     },
     "execution_count": 16,
     "metadata": {},
     "output_type": "execute_result"
    }
   ],
   "source": [
    "#maximo\n",
    "np.max(k)\n",
    "print(np.max(k))\n",
    "#minimo\n",
    "print(np.min(k))\n",
    "#media\n",
    "np.mean(k)\n",
    "#mediana\n",
    "np.median(k)\n",
    "#desvio padrao\n",
    "np.std(k)\n",
    "#variancia\n",
    "np.var(k)\n"
   ]
  },
  {
   "cell_type": "code",
   "execution_count": 18,
   "metadata": {},
   "outputs": [
    {
     "name": "stdout",
     "output_type": "stream",
     "text": [
      "[[0 1 2 3 4]\n",
      " [5 6 7 8 9]]\n"
     ]
    }
   ],
   "source": [
    "print(np.arange(10).reshape(2,5))"
   ]
  },
  {
   "cell_type": "code",
   "execution_count": 32,
   "metadata": {},
   "outputs": [
    {
     "name": "stdout",
     "output_type": "stream",
     "text": [
      "[[-0.57837677 -0.92300881 -0.18895928  1.10607412]\n",
      " [-0.32377348 -0.24027479  0.32156616  0.7953741 ]\n",
      " [ 0.70256345  0.70436633  0.69818932 -0.57292859]\n",
      " [-1.75476319 -1.08021564 -1.77949064 -0.33265407]]\n",
      "[[False False False  True]\n",
      " [False False  True  True]\n",
      " [ True  True  True False]\n",
      " [False False False False]]\n",
      "(array([0, 1, 1, 2, 2, 2], dtype=int64), array([3, 2, 3, 0, 1, 2], dtype=int64))\n",
      "[1.10607412 0.32156616 0.7953741  0.70256345 0.70436633 0.69818932]\n"
     ]
    }
   ],
   "source": [
    "v = np.random.randn(4,4)\n",
    "print(v)\n",
    "x = (v>0)\n",
    "print(x)\n",
    "z = np.where(x)\n",
    "print(z)\n",
    "print(v[z])"
   ]
  },
  {
   "cell_type": "code",
   "execution_count": null,
   "metadata": {},
   "outputs": [],
   "source": []
  }
 ],
 "metadata": {
  "kernelspec": {
   "display_name": "Python 3",
   "language": "python",
   "name": "python3"
  },
  "language_info": {
   "codemirror_mode": {
    "name": "ipython",
    "version": 3
   },
   "file_extension": ".py",
   "mimetype": "text/x-python",
   "name": "python",
   "nbconvert_exporter": "python",
   "pygments_lexer": "ipython3",
   "version": "3.11.4"
  }
 },
 "nbformat": 4,
 "nbformat_minor": 2
}
